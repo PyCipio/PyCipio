{
 "cells": [
  {
   "cell_type": "code",
   "execution_count": null,
   "metadata": {},
   "outputs": [],
   "source": [
    "## import packages\n",
    "import warnings\n",
    "warnings.simplefilter(action='ignore', category=FutureWarning)\n",
    "import numpy as np \n",
    "import pandas as pd \n",
    "from covid19dh import covid19\n",
    "from datetime import date\n",
    "from Get_covid_data import get_data\n",
    "import pymc3 as pm\n",
    "import pandas as pd \n",
    "import numpy as np \n",
    "import seaborn as sns\n",
    "import arviz as az\n",
    "import matplotlib.pyplot as plt\n",
    "import os \n",
    "import theano\n",
    "import theano.tensor as tt \n",
    "import random\n",
    "import fns as f\n",
    "import PyCipio as pc \n",
    "import pickle\n",
    "import plotly\n",
    "\n",
    "## load data\n",
    "d = pd.read_pickle(\"../data/data_ex3.pkl\")\n",
    "\n",
    "## instantiate class\n",
    "sim = pc.PyCipio(d, time = \"t\", values = \"y\", index = \"idx\", split = 0.7)\n",
    "\n",
    "## load idata into the class\n",
    "sim.load_idata(\"../models/m_ex3_7-1m_75-1a\")\n",
    "\n",
    "## compile model\n",
    "sim.fit(p1 = (7, 1), p2 = (75, 1), p1_mode = \"multiplicative\", p2_mode = \"additive\")\n",
    "\n",
    "##### plot trace #####\n",
    "sim.plot_trace(path = \"../plots/ex3_plot_trace\")\n",
    "\n",
    "### plot pp ###\n",
    "sim.plot_pp(path = \"../plots/ex3_plot_pp\")\n",
    "\n",
    "### plot training ###\n",
    "sim.plot_fit_idx(path = \"../plots/ex3_plot_fit_idx\", idx  = [\"Texas\", \"California\", \"Florida\", \"Nevada\"])\n",
    "\n",
    "### plot prediction ###\n",
    "sim.plot_predict_idx(path = \"../plots/ex3_plot_predict_idx\", idx  = [\"Texas\", \"California\", \"Florida\", \"Nevada\"])\n",
    "\n",
    "### get errors ###\n",
    "sim.get_errors(path = \"../plots/ex3_get_errors\")\n",
    "\n",
    "### plot residuals ###\n",
    "sim.plot_residuals(path = \"../plots/ex3_residual_plots\", idx = [\"Texas\", \"California\", \"Florida\", \"Nevada\"])"
   ]
  },
  {
   "cell_type": "code",
   "execution_count": null,
   "metadata": {},
   "outputs": [],
   "source": []
  }
 ],
 "metadata": {
  "kernelspec": {
   "name": "python385jvsc74a57bd05698216558bfa99e9d0f38da36571f7d9dccffc67e29b4443301a5ed3d75bbb7",
   "display_name": "Python 3.8.5 64-bit ('CM': conda)"
  },
  "language_info": {
   "codemirror_mode": {
    "name": "ipython",
    "version": 3
   },
   "file_extension": ".py",
   "mimetype": "text/x-python",
   "name": "python",
   "nbconvert_exporter": "python",
   "pygments_lexer": "ipython3",
   "version": "3.8.5"
  },
  "metadata": {
   "interpreter": {
    "hash": "5698216558bfa99e9d0f38da36571f7d9dccffc67e29b4443301a5ed3d75bbb7"
   }
  }
 },
 "nbformat": 4,
 "nbformat_minor": 4
}