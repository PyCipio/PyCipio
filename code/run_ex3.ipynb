{
 "cells": [
  {
   "cell_type": "code",
   "execution_count": null,
   "metadata": {},
   "outputs": [],
   "source": [
    "## import packages\n",
    "import numpy as np \n",
    "import pandas as pd \n",
    "from covid19dh import covid19\n",
    "from datetime import date\n",
    "from Get_covid_data import get_data\n",
    "import pymc3 as pm\n",
    "import pandas as pd \n",
    "import numpy as np \n",
    "import seaborn as sns\n",
    "import arviz as az\n",
    "import matplotlib.pyplot as plt\n",
    "import os \n",
    "import theano\n",
    "import theano.tensor as tt \n",
    "import random\n",
    "import fns as f\n",
    "import PyCipio as pc \n",
    "import pickle\n"
   ]
  },
  {
   "cell_type": "code",
   "execution_count": null,
   "metadata": {},
   "outputs": [],
   "source": [
    "\n",
    "## load data\n",
    "d = pd.read_pickle(\"../data/data_ex3.pkl\")\n",
    "\n",
    "## check data\n",
    "sns.lineplot(data = d, x = \"t\", y = \"y\", hue = \"idx\")\n",
    "\n",
    "##### create class ######\n",
    "sim = pc.PyCipio(d, time = \"t\", values = \"y\", index = \"idx\", split = 0.7)\n",
    "\n",
    "##### fit mod: both just 1 #####\n",
    "## NB: if there is only one argument to mode which does something (multiplicative).\n",
    "## perhaps we should just set it as a true/false?\n",
    "sim.fit(p1 = (7, 1), p2 = (75, 1), p1_mode = \"multiplicative\", p2_mode = \"additive\")\n",
    "\n",
    "##### sample #####\n",
    "sim.sample_mod()\n",
    "\n",
    "##### plotting #####\n",
    "sim.plot_trace()\n",
    "sim.plot_pp()\n",
    "\n",
    "### plot training ###\n",
    "sim.plot_fit_idx([\"Texas\", \"California\", \"Florida\", \"Nevada\"])\n",
    "\n",
    "### plot predict ###\n",
    "sim.plot_predict_idx([\"Texas\", \"California\", \"Florida\", \"Nevada\"])\n",
    "\n",
    "### save idata ###\n",
    "sim.save_idata(\"../models/m_ex3_7-1m_75-1a\")\n",
    "\n",
    "\n",
    "\n",
    "\n"
   ]
  },
  {
   "cell_type": "code",
   "execution_count": null,
   "metadata": {},
   "outputs": [],
   "source": []
  },
  {
   "cell_type": "code",
   "execution_count": null,
   "metadata": {},
   "outputs": [],
   "source": []
  }
 ],
 "metadata": {
  "kernelspec": {
   "name": "python385jvsc74a57bd05698216558bfa99e9d0f38da36571f7d9dccffc67e29b4443301a5ed3d75bbb7",
   "display_name": "Python 3.8.5 64-bit ('CM': conda)"
  },
  "language_info": {
   "codemirror_mode": {
    "name": "ipython",
    "version": 3
   },
   "file_extension": ".py",
   "mimetype": "text/x-python",
   "name": "python",
   "nbconvert_exporter": "python",
   "pygments_lexer": "ipython3",
   "version": "3.8.5"
  },
  "metadata": {
   "interpreter": {
    "hash": "5698216558bfa99e9d0f38da36571f7d9dccffc67e29b4443301a5ed3d75bbb7"
   }
  }
 },
 "nbformat": 4,
 "nbformat_minor": 2
}