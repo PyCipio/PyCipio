{
 "metadata": {
  "language_info": {
   "codemirror_mode": {
    "name": "ipython",
    "version": 3
   },
   "file_extension": ".py",
   "mimetype": "text/x-python",
   "name": "python",
   "nbconvert_exporter": "python",
   "pygments_lexer": "ipython3",
   "version": "3.8.5"
  },
  "orig_nbformat": 2,
  "kernelspec": {
   "name": "python385jvsc74a57bd05698216558bfa99e9d0f38da36571f7d9dccffc67e29b4443301a5ed3d75bbb7",
   "display_name": "Python 3.8.5 64-bit ('CM': conda)"
  },
  "metadata": {
   "interpreter": {
    "hash": "5698216558bfa99e9d0f38da36571f7d9dccffc67e29b4443301a5ed3d75bbb7"
   }
  }
 },
 "nbformat": 4,
 "nbformat_minor": 2,
 "cells": [
  {
   "cell_type": "code",
   "execution_count": 13,
   "metadata": {},
   "outputs": [],
   "source": [
    "# import packages\n",
    "from covid19dh import covid19\n",
    "from datetime import date\n",
    "from Get_covid_data import get_data\n",
    "import pymc3 as pm\n",
    "import pandas as pd \n",
    "import numpy as np \n",
    "import seaborn as sns\n",
    "import arviz as az\n",
    "import matplotlib.pyplot as plt\n",
    "import os \n",
    "import theano\n",
    "import random\n",
    "from sklearn.preprocessing import MinMaxScaler\n",
    "# import functions from fns file \n",
    "import fns as f"
   ]
  },
  {
   "source": [
    "Load covid data, create subset/new columns and plot"
   ],
   "cell_type": "markdown",
   "metadata": {}
  },
  {
   "cell_type": "code",
   "execution_count": 14,
   "metadata": {},
   "outputs": [],
   "source": [
    "#Get data\n",
    "data = get_data(level = 2, start = date(2020,1,1)) #can get more or less data here.\n",
    "#group_by introduce lag (new infected from commulative)\n",
    "data[\"new_infected\"] = data.groupby([\"administrative_area_level_2\"])[\"confirmed\"].diff()\n",
    "data = data[data[\"new_infected\"].notna()]\n",
    "##Create subset from 5 states\n",
    "#subset = data[data['administrative_area_level_2'].isin([\"Florida\"])]\n",
    "##Check data\n",
    "#sns.lineplot(data = data, x = \"date\", y = \"new_infected\", hue = \"administrative_area_level_2\")\n",
    "\n"
   ]
  },
  {
   "source": [
    "Prep data and create train/test split"
   ],
   "cell_type": "markdown",
   "metadata": {}
  },
  {
   "cell_type": "code",
   "execution_count": 16,
   "metadata": {},
   "outputs": [
    {
     "output_type": "stream",
     "name": "stderr",
     "text": [
      "<ipython-input-16-068e3227cac0>:17: SettingWithCopyWarning: \nA value is trying to be set on a copy of a slice from a DataFrame.\nTry using .loc[row_indexer,col_indexer] = value instead\n\nSee the caveats in the documentation: https://pandas.pydata.org/pandas-docs/stable/user_guide/indexing.html#returning-a-view-versus-a-copy\n  train['new_infected'] = scaler.fit_transform(train['new_infected'].values.reshape(-1,1))\n<ipython-input-16-068e3227cac0>:18: SettingWithCopyWarning: \nA value is trying to be set on a copy of a slice from a DataFrame.\nTry using .loc[row_indexer,col_indexer] = value instead\n\nSee the caveats in the documentation: https://pandas.pydata.org/pandas-docs/stable/user_guide/indexing.html#returning-a-view-versus-a-copy\n  test['new_infected'] = scaler.fit_transform(test['new_infected'].values.reshape(-1,1))\n"
     ]
    }
   ],
   "source": [
    "# specify x, y & grouping variable in orig. data &\n",
    "# the name that will be used going forward (can be the same). \n",
    "y = \"new_infected\"\n",
    "x_old = \"date\"\n",
    "idx_old = \"administrative_area_level_2\"\n",
    "x_new = \"date_2\"\n",
    "idx_new = \"idx\"\n",
    "\n",
    "# get idx for each group (e.g. country) and zero-index for time variable (e.g. year).\n",
    "d = f.get_idx(data, idx_old, x_old, idx_new, x_new)\n",
    "\n",
    "# use test/train split function\n",
    "train, test = f.train_test(d, x_new) # check doc-string.\n",
    "\n",
    "#Scale values:\n",
    "scaler = MinMaxScaler()\n",
    "train['new_infected'] = scaler.fit_transform(train['new_infected'].values.reshape(-1,1))\n",
    "test['new_infected'] = scaler.fit_transform(test['new_infected'].values.reshape(-1,1))\n",
    "\n",
    "# we need N here as well for shape.\n",
    "N = len(np.unique(train[idx_new]))"
   ]
  },
  {
   "source": [
    "Build model"
   ],
   "cell_type": "markdown",
   "metadata": {}
  },
  {
   "cell_type": "code",
   "execution_count": 19,
   "metadata": {},
   "outputs": [
    {
     "output_type": "stream",
     "name": "stderr",
     "text": [
      "Auto-assigning NUTS sampler...\n",
      "Initializing NUTS using jitter+adapt_diag...\n",
      "Sequential sampling (1 chains in 1 job)\n",
      "NUTS: [ε, β, α, β_σ, β_μ, α_σ, α_μ]\n"
     ]
    },
    {
     "output_type": "display_data",
     "data": {
      "text/plain": "<IPython.core.display.HTML object>",
      "text/html": "\n    <div>\n        <style>\n            /* Turns off some styling */\n            progress {\n                /* gets rid of default border in Firefox and Opera. */\n                border: none;\n                /* Needs to be in here for Safari polyfill so background images work as expected. */\n                background-size: auto;\n            }\n            .progress-bar-interrupted, .progress-bar-interrupted::-webkit-progress-bar {\n                background: #F44336;\n            }\n        </style>\n      <progress value='0' class='' max='3000' style='width:300px; height:20px; vertical-align: middle;'></progress>\n      \n    </div>\n    "
     },
     "metadata": {}
    },
    {
     "output_type": "stream",
     "name": "stderr",
     "text": [
      "C:\\Users\\emilr\\Anaconda3\\envs\\CM\\lib\\site-packages\\pymc3\\step_methods\\hmc\\quadpotential.py:224: RuntimeWarning: divide by zero encountered in true_divide\n  np.divide(1, self._stds, out=self._inv_stds)\nC:\\Users\\emilr\\Anaconda3\\envs\\CM\\lib\\site-packages\\pymc3\\step_methods\\hmc\\quadpotential.py:203: RuntimeWarning: invalid value encountered in multiply\n  return np.multiply(self._var, x, out=out)\n"
     ]
    },
    {
     "output_type": "error",
     "ename": "ValueError",
     "evalue": "Mass matrix contains zeros on the diagonal. \nThe derivative of RV `α`.ravel()[0] is zero.\nThe derivative of RV `α`.ravel()[1] is zero.\nThe derivative of RV `α`.ravel()[2] is zero.\nThe derivative of RV `α`.ravel()[3] is zero.\nThe derivative of RV `α`.ravel()[4] is zero.\nThe derivative of RV `α`.ravel()[6] is zero.\nThe derivative of RV `α`.ravel()[7] is zero.\nThe derivative of RV `α`.ravel()[8] is zero.\nThe derivative of RV `α`.ravel()[10] is zero.\nThe derivative of RV `α`.ravel()[11] is zero.\nThe derivative of RV `α`.ravel()[12] is zero.\nThe derivative of RV `α`.ravel()[13] is zero.\nThe derivative of RV `α`.ravel()[14] is zero.\nThe derivative of RV `α`.ravel()[15] is zero.\nThe derivative of RV `α`.ravel()[16] is zero.\nThe derivative of RV `α`.ravel()[17] is zero.\nThe derivative of RV `α`.ravel()[18] is zero.\nThe derivative of RV `α`.ravel()[19] is zero.\nThe derivative of RV `α`.ravel()[20] is zero.\nThe derivative of RV `α`.ravel()[21] is zero.\nThe derivative of RV `α`.ravel()[22] is zero.\nThe derivative of RV `α`.ravel()[23] is zero.\nThe derivative of RV `α`.ravel()[24] is zero.\nThe derivative of RV `α`.ravel()[25] is zero.\nThe derivative of RV `α`.ravel()[26] is zero.\nThe derivative of RV `α`.ravel()[27] is zero.\nThe derivative of RV `α`.ravel()[28] is zero.\nThe derivative of RV `α`.ravel()[29] is zero.\nThe derivative of RV `α`.ravel()[30] is zero.\nThe derivative of RV `α`.ravel()[31] is zero.\nThe derivative of RV `α`.ravel()[32] is zero.\nThe derivative of RV `α`.ravel()[33] is zero.\nThe derivative of RV `α`.ravel()[35] is zero.\nThe derivative of RV `α`.ravel()[36] is zero.\nThe derivative of RV `α`.ravel()[37] is zero.\nThe derivative of RV `α`.ravel()[39] is zero.\nThe derivative of RV `α`.ravel()[40] is zero.\nThe derivative of RV `α`.ravel()[41] is zero.\nThe derivative of RV `α`.ravel()[42] is zero.\nThe derivative of RV `α`.ravel()[43] is zero.\nThe derivative of RV `α`.ravel()[44] is zero.\nThe derivative of RV `α`.ravel()[45] is zero.\nThe derivative of RV `α`.ravel()[46] is zero.\nThe derivative of RV `α`.ravel()[47] is zero.\nThe derivative of RV `α`.ravel()[48] is zero.\nThe derivative of RV `α`.ravel()[49] is zero.\nThe derivative of RV `α`.ravel()[50] is zero.\nThe derivative of RV `α`.ravel()[51] is zero.\nThe derivative of RV `α`.ravel()[52] is zero.\nThe derivative of RV `α`.ravel()[53] is zero.\nThe derivative of RV `β_σ_log__`.ravel()[0] is zero.\nThe derivative of RV `β_μ`.ravel()[0] is zero.\nThe derivative of RV `α_σ_log__`.ravel()[0] is zero.\nThe derivative of RV `α_μ`.ravel()[0] is zero.",
     "traceback": [
      "\u001b[1;31m---------------------------------------------------------------------------\u001b[0m",
      "\u001b[1;31mValueError\u001b[0m                                Traceback (most recent call last)",
      "\u001b[1;32m<ipython-input-19-8dc0ea28dde6>\u001b[0m in \u001b[0;36m<module>\u001b[1;34m\u001b[0m\n\u001b[0;32m     22\u001b[0m \u001b[1;33m\u001b[0m\u001b[0m\n\u001b[0;32m     23\u001b[0m     \u001b[1;31m# trace\u001b[0m\u001b[1;33m\u001b[0m\u001b[1;33m\u001b[0m\u001b[1;33m\u001b[0m\u001b[0m\n\u001b[1;32m---> 24\u001b[1;33m     m1_trace = pm.sample(2000, chains = 1, return_inferencedata = True,\n\u001b[0m\u001b[0;32m     25\u001b[0m                         target_accept = .99)\n",
      "\u001b[1;32m~\\Anaconda3\\envs\\CM\\lib\\site-packages\\pymc3\\sampling.py\u001b[0m in \u001b[0;36msample\u001b[1;34m(draws, step, init, n_init, start, trace, chain_idx, chains, cores, tune, progressbar, model, random_seed, discard_tuned_samples, compute_convergence_checks, callback, jitter_max_retries, return_inferencedata, idata_kwargs, mp_ctx, pickle_backend, **kwargs)\u001b[0m\n\u001b[0;32m    594\u001b[0m             \u001b[0m_log\u001b[0m\u001b[1;33m.\u001b[0m\u001b[0minfo\u001b[0m\u001b[1;33m(\u001b[0m\u001b[1;34mf\"Sequential sampling ({chains} chains in 1 job)\"\u001b[0m\u001b[1;33m)\u001b[0m\u001b[1;33m\u001b[0m\u001b[1;33m\u001b[0m\u001b[0m\n\u001b[0;32m    595\u001b[0m             \u001b[0m_print_step_hierarchy\u001b[0m\u001b[1;33m(\u001b[0m\u001b[0mstep\u001b[0m\u001b[1;33m)\u001b[0m\u001b[1;33m\u001b[0m\u001b[1;33m\u001b[0m\u001b[0m\n\u001b[1;32m--> 596\u001b[1;33m             \u001b[0mtrace\u001b[0m \u001b[1;33m=\u001b[0m \u001b[0m_sample_many\u001b[0m\u001b[1;33m(\u001b[0m\u001b[1;33m**\u001b[0m\u001b[0msample_args\u001b[0m\u001b[1;33m)\u001b[0m\u001b[1;33m\u001b[0m\u001b[1;33m\u001b[0m\u001b[0m\n\u001b[0m\u001b[0;32m    597\u001b[0m \u001b[1;33m\u001b[0m\u001b[0m\n\u001b[0;32m    598\u001b[0m     \u001b[0mt_sampling\u001b[0m \u001b[1;33m=\u001b[0m \u001b[0mtime\u001b[0m\u001b[1;33m.\u001b[0m\u001b[0mtime\u001b[0m\u001b[1;33m(\u001b[0m\u001b[1;33m)\u001b[0m \u001b[1;33m-\u001b[0m \u001b[0mt_start\u001b[0m\u001b[1;33m\u001b[0m\u001b[1;33m\u001b[0m\u001b[0m\n",
      "\u001b[1;32m~\\Anaconda3\\envs\\CM\\lib\\site-packages\\pymc3\\sampling.py\u001b[0m in \u001b[0;36m_sample_many\u001b[1;34m(draws, chain, chains, start, random_seed, step, callback, **kwargs)\u001b[0m\n\u001b[0;32m    710\u001b[0m     \u001b[0mtraces\u001b[0m\u001b[1;33m:\u001b[0m \u001b[0mList\u001b[0m\u001b[1;33m[\u001b[0m\u001b[0mBackend\u001b[0m\u001b[1;33m]\u001b[0m \u001b[1;33m=\u001b[0m \u001b[1;33m[\u001b[0m\u001b[1;33m]\u001b[0m\u001b[1;33m\u001b[0m\u001b[1;33m\u001b[0m\u001b[0m\n\u001b[0;32m    711\u001b[0m     \u001b[1;32mfor\u001b[0m \u001b[0mi\u001b[0m \u001b[1;32min\u001b[0m \u001b[0mrange\u001b[0m\u001b[1;33m(\u001b[0m\u001b[0mchains\u001b[0m\u001b[1;33m)\u001b[0m\u001b[1;33m:\u001b[0m\u001b[1;33m\u001b[0m\u001b[1;33m\u001b[0m\u001b[0m\n\u001b[1;32m--> 712\u001b[1;33m         trace = _sample(\n\u001b[0m\u001b[0;32m    713\u001b[0m             \u001b[0mdraws\u001b[0m\u001b[1;33m=\u001b[0m\u001b[0mdraws\u001b[0m\u001b[1;33m,\u001b[0m\u001b[1;33m\u001b[0m\u001b[1;33m\u001b[0m\u001b[0m\n\u001b[0;32m    714\u001b[0m             \u001b[0mchain\u001b[0m\u001b[1;33m=\u001b[0m\u001b[0mchain\u001b[0m \u001b[1;33m+\u001b[0m \u001b[0mi\u001b[0m\u001b[1;33m,\u001b[0m\u001b[1;33m\u001b[0m\u001b[1;33m\u001b[0m\u001b[0m\n",
      "\u001b[1;32m~\\Anaconda3\\envs\\CM\\lib\\site-packages\\pymc3\\sampling.py\u001b[0m in \u001b[0;36m_sample\u001b[1;34m(chain, progressbar, random_seed, start, draws, step, trace, tune, model, callback, **kwargs)\u001b[0m\n\u001b[0;32m    852\u001b[0m     \u001b[1;32mtry\u001b[0m\u001b[1;33m:\u001b[0m\u001b[1;33m\u001b[0m\u001b[1;33m\u001b[0m\u001b[0m\n\u001b[0;32m    853\u001b[0m         \u001b[0mstrace\u001b[0m \u001b[1;33m=\u001b[0m \u001b[1;32mNone\u001b[0m\u001b[1;33m\u001b[0m\u001b[1;33m\u001b[0m\u001b[0m\n\u001b[1;32m--> 854\u001b[1;33m         \u001b[1;32mfor\u001b[0m \u001b[0mit\u001b[0m\u001b[1;33m,\u001b[0m \u001b[1;33m(\u001b[0m\u001b[0mstrace\u001b[0m\u001b[1;33m,\u001b[0m \u001b[0mdiverging\u001b[0m\u001b[1;33m)\u001b[0m \u001b[1;32min\u001b[0m \u001b[0menumerate\u001b[0m\u001b[1;33m(\u001b[0m\u001b[0msampling\u001b[0m\u001b[1;33m)\u001b[0m\u001b[1;33m:\u001b[0m\u001b[1;33m\u001b[0m\u001b[1;33m\u001b[0m\u001b[0m\n\u001b[0m\u001b[0;32m    855\u001b[0m             \u001b[1;32mif\u001b[0m \u001b[0mit\u001b[0m \u001b[1;33m>=\u001b[0m \u001b[0mskip_first\u001b[0m \u001b[1;32mand\u001b[0m \u001b[0mdiverging\u001b[0m\u001b[1;33m:\u001b[0m\u001b[1;33m\u001b[0m\u001b[1;33m\u001b[0m\u001b[0m\n\u001b[0;32m    856\u001b[0m                 \u001b[0m_pbar_data\u001b[0m\u001b[1;33m[\u001b[0m\u001b[1;34m\"divergences\"\u001b[0m\u001b[1;33m]\u001b[0m \u001b[1;33m+=\u001b[0m \u001b[1;36m1\u001b[0m\u001b[1;33m\u001b[0m\u001b[1;33m\u001b[0m\u001b[0m\n",
      "\u001b[1;32m~\\Anaconda3\\envs\\CM\\lib\\site-packages\\fastprogress\\fastprogress.py\u001b[0m in \u001b[0;36m__iter__\u001b[1;34m(self)\u001b[0m\n\u001b[0;32m     45\u001b[0m         \u001b[1;32mexcept\u001b[0m \u001b[0mException\u001b[0m \u001b[1;32mas\u001b[0m \u001b[0me\u001b[0m\u001b[1;33m:\u001b[0m\u001b[1;33m\u001b[0m\u001b[1;33m\u001b[0m\u001b[0m\n\u001b[0;32m     46\u001b[0m             \u001b[0mself\u001b[0m\u001b[1;33m.\u001b[0m\u001b[0mon_interrupt\u001b[0m\u001b[1;33m(\u001b[0m\u001b[1;33m)\u001b[0m\u001b[1;33m\u001b[0m\u001b[1;33m\u001b[0m\u001b[0m\n\u001b[1;32m---> 47\u001b[1;33m             \u001b[1;32mraise\u001b[0m \u001b[0me\u001b[0m\u001b[1;33m\u001b[0m\u001b[1;33m\u001b[0m\u001b[0m\n\u001b[0m\u001b[0;32m     48\u001b[0m \u001b[1;33m\u001b[0m\u001b[0m\n\u001b[0;32m     49\u001b[0m     \u001b[1;32mdef\u001b[0m \u001b[0mupdate\u001b[0m\u001b[1;33m(\u001b[0m\u001b[0mself\u001b[0m\u001b[1;33m,\u001b[0m \u001b[0mval\u001b[0m\u001b[1;33m)\u001b[0m\u001b[1;33m:\u001b[0m\u001b[1;33m\u001b[0m\u001b[1;33m\u001b[0m\u001b[0m\n",
      "\u001b[1;32m~\\Anaconda3\\envs\\CM\\lib\\site-packages\\fastprogress\\fastprogress.py\u001b[0m in \u001b[0;36m__iter__\u001b[1;34m(self)\u001b[0m\n\u001b[0;32m     39\u001b[0m         \u001b[1;32mif\u001b[0m \u001b[0mself\u001b[0m\u001b[1;33m.\u001b[0m\u001b[0mtotal\u001b[0m \u001b[1;33m!=\u001b[0m \u001b[1;36m0\u001b[0m\u001b[1;33m:\u001b[0m \u001b[0mself\u001b[0m\u001b[1;33m.\u001b[0m\u001b[0mupdate\u001b[0m\u001b[1;33m(\u001b[0m\u001b[1;36m0\u001b[0m\u001b[1;33m)\u001b[0m\u001b[1;33m\u001b[0m\u001b[1;33m\u001b[0m\u001b[0m\n\u001b[0;32m     40\u001b[0m         \u001b[1;32mtry\u001b[0m\u001b[1;33m:\u001b[0m\u001b[1;33m\u001b[0m\u001b[1;33m\u001b[0m\u001b[0m\n\u001b[1;32m---> 41\u001b[1;33m             \u001b[1;32mfor\u001b[0m \u001b[0mi\u001b[0m\u001b[1;33m,\u001b[0m\u001b[0mo\u001b[0m \u001b[1;32min\u001b[0m \u001b[0menumerate\u001b[0m\u001b[1;33m(\u001b[0m\u001b[0mself\u001b[0m\u001b[1;33m.\u001b[0m\u001b[0mgen\u001b[0m\u001b[1;33m)\u001b[0m\u001b[1;33m:\u001b[0m\u001b[1;33m\u001b[0m\u001b[1;33m\u001b[0m\u001b[0m\n\u001b[0m\u001b[0;32m     42\u001b[0m                 \u001b[1;32mif\u001b[0m \u001b[0mi\u001b[0m \u001b[1;33m>=\u001b[0m \u001b[0mself\u001b[0m\u001b[1;33m.\u001b[0m\u001b[0mtotal\u001b[0m\u001b[1;33m:\u001b[0m \u001b[1;32mbreak\u001b[0m\u001b[1;33m\u001b[0m\u001b[1;33m\u001b[0m\u001b[0m\n\u001b[0;32m     43\u001b[0m                 \u001b[1;32myield\u001b[0m \u001b[0mo\u001b[0m\u001b[1;33m\u001b[0m\u001b[1;33m\u001b[0m\u001b[0m\n",
      "\u001b[1;32m~\\Anaconda3\\envs\\CM\\lib\\site-packages\\pymc3\\sampling.py\u001b[0m in \u001b[0;36m_iter_sample\u001b[1;34m(draws, step, start, trace, chain, tune, model, random_seed, callback)\u001b[0m\n\u001b[0;32m   1007\u001b[0m                 \u001b[0mstep\u001b[0m \u001b[1;33m=\u001b[0m \u001b[0mstop_tuning\u001b[0m\u001b[1;33m(\u001b[0m\u001b[0mstep\u001b[0m\u001b[1;33m)\u001b[0m\u001b[1;33m\u001b[0m\u001b[1;33m\u001b[0m\u001b[0m\n\u001b[0;32m   1008\u001b[0m             \u001b[1;32mif\u001b[0m \u001b[0mstep\u001b[0m\u001b[1;33m.\u001b[0m\u001b[0mgenerates_stats\u001b[0m\u001b[1;33m:\u001b[0m\u001b[1;33m\u001b[0m\u001b[1;33m\u001b[0m\u001b[0m\n\u001b[1;32m-> 1009\u001b[1;33m                 \u001b[0mpoint\u001b[0m\u001b[1;33m,\u001b[0m \u001b[0mstats\u001b[0m \u001b[1;33m=\u001b[0m \u001b[0mstep\u001b[0m\u001b[1;33m.\u001b[0m\u001b[0mstep\u001b[0m\u001b[1;33m(\u001b[0m\u001b[0mpoint\u001b[0m\u001b[1;33m)\u001b[0m\u001b[1;33m\u001b[0m\u001b[1;33m\u001b[0m\u001b[0m\n\u001b[0m\u001b[0;32m   1010\u001b[0m                 \u001b[1;32mif\u001b[0m \u001b[0mstrace\u001b[0m\u001b[1;33m.\u001b[0m\u001b[0msupports_sampler_stats\u001b[0m\u001b[1;33m:\u001b[0m\u001b[1;33m\u001b[0m\u001b[1;33m\u001b[0m\u001b[0m\n\u001b[0;32m   1011\u001b[0m                     \u001b[0mstrace\u001b[0m\u001b[1;33m.\u001b[0m\u001b[0mrecord\u001b[0m\u001b[1;33m(\u001b[0m\u001b[0mpoint\u001b[0m\u001b[1;33m,\u001b[0m \u001b[0mstats\u001b[0m\u001b[1;33m)\u001b[0m\u001b[1;33m\u001b[0m\u001b[1;33m\u001b[0m\u001b[0m\n",
      "\u001b[1;32m~\\Anaconda3\\envs\\CM\\lib\\site-packages\\pymc3\\step_methods\\arraystep.py\u001b[0m in \u001b[0;36mstep\u001b[1;34m(self, point)\u001b[0m\n\u001b[0;32m    274\u001b[0m \u001b[1;33m\u001b[0m\u001b[0m\n\u001b[0;32m    275\u001b[0m         \u001b[1;32mif\u001b[0m \u001b[0mself\u001b[0m\u001b[1;33m.\u001b[0m\u001b[0mgenerates_stats\u001b[0m\u001b[1;33m:\u001b[0m\u001b[1;33m\u001b[0m\u001b[1;33m\u001b[0m\u001b[0m\n\u001b[1;32m--> 276\u001b[1;33m             \u001b[0mapoint\u001b[0m\u001b[1;33m,\u001b[0m \u001b[0mstats\u001b[0m \u001b[1;33m=\u001b[0m \u001b[0mself\u001b[0m\u001b[1;33m.\u001b[0m\u001b[0mastep\u001b[0m\u001b[1;33m(\u001b[0m\u001b[0marray\u001b[0m\u001b[1;33m)\u001b[0m\u001b[1;33m\u001b[0m\u001b[1;33m\u001b[0m\u001b[0m\n\u001b[0m\u001b[0;32m    277\u001b[0m             \u001b[0mpoint\u001b[0m \u001b[1;33m=\u001b[0m \u001b[0mself\u001b[0m\u001b[1;33m.\u001b[0m\u001b[0m_logp_dlogp_func\u001b[0m\u001b[1;33m.\u001b[0m\u001b[0marray_to_full_dict\u001b[0m\u001b[1;33m(\u001b[0m\u001b[0mapoint\u001b[0m\u001b[1;33m)\u001b[0m\u001b[1;33m\u001b[0m\u001b[1;33m\u001b[0m\u001b[0m\n\u001b[0;32m    278\u001b[0m             \u001b[1;32mreturn\u001b[0m \u001b[0mpoint\u001b[0m\u001b[1;33m,\u001b[0m \u001b[0mstats\u001b[0m\u001b[1;33m\u001b[0m\u001b[1;33m\u001b[0m\u001b[0m\n",
      "\u001b[1;32m~\\Anaconda3\\envs\\CM\\lib\\site-packages\\pymc3\\step_methods\\hmc\\base_hmc.py\u001b[0m in \u001b[0;36mastep\u001b[1;34m(self, q0)\u001b[0m\n\u001b[0;32m    145\u001b[0m                 \u001b[1;33m(\u001b[0m\u001b[0mnp\u001b[0m\u001b[1;33m.\u001b[0m\u001b[0mabs\u001b[0m\u001b[1;33m(\u001b[0m\u001b[0mcheck_test_point\u001b[0m\u001b[1;33m)\u001b[0m \u001b[1;33m>=\u001b[0m \u001b[1;36m1e20\u001b[0m\u001b[1;33m)\u001b[0m \u001b[1;33m|\u001b[0m \u001b[0mnp\u001b[0m\u001b[1;33m.\u001b[0m\u001b[0misnan\u001b[0m\u001b[1;33m(\u001b[0m\u001b[0mcheck_test_point\u001b[0m\u001b[1;33m)\u001b[0m\u001b[1;33m\u001b[0m\u001b[1;33m\u001b[0m\u001b[0m\n\u001b[0;32m    146\u001b[0m             ]\n\u001b[1;32m--> 147\u001b[1;33m             \u001b[0mself\u001b[0m\u001b[1;33m.\u001b[0m\u001b[0mpotential\u001b[0m\u001b[1;33m.\u001b[0m\u001b[0mraise_ok\u001b[0m\u001b[1;33m(\u001b[0m\u001b[0mself\u001b[0m\u001b[1;33m.\u001b[0m\u001b[0m_logp_dlogp_func\u001b[0m\u001b[1;33m.\u001b[0m\u001b[0m_ordering\u001b[0m\u001b[1;33m.\u001b[0m\u001b[0mvmap\u001b[0m\u001b[1;33m)\u001b[0m\u001b[1;33m\u001b[0m\u001b[1;33m\u001b[0m\u001b[0m\n\u001b[0m\u001b[0;32m    148\u001b[0m             message_energy = (\n\u001b[0;32m    149\u001b[0m                 \u001b[1;34m\"Bad initial energy, check any log probabilities that \"\u001b[0m\u001b[1;33m\u001b[0m\u001b[1;33m\u001b[0m\u001b[0m\n",
      "\u001b[1;32m~\\Anaconda3\\envs\\CM\\lib\\site-packages\\pymc3\\step_methods\\hmc\\quadpotential.py\u001b[0m in \u001b[0;36mraise_ok\u001b[1;34m(self, vmap)\u001b[0m\n\u001b[0;32m    270\u001b[0m                     \u001b[1;34m\"The derivative of RV `{}`.ravel()[{}] is zero.\"\u001b[0m\u001b[1;33m.\u001b[0m\u001b[0mformat\u001b[0m\u001b[1;33m(\u001b[0m\u001b[1;33m*\u001b[0m\u001b[0mname_slc\u001b[0m\u001b[1;33m[\u001b[0m\u001b[0mii\u001b[0m\u001b[1;33m]\u001b[0m\u001b[1;33m)\u001b[0m\u001b[1;33m\u001b[0m\u001b[1;33m\u001b[0m\u001b[0m\n\u001b[0;32m    271\u001b[0m                 )\n\u001b[1;32m--> 272\u001b[1;33m             \u001b[1;32mraise\u001b[0m \u001b[0mValueError\u001b[0m\u001b[1;33m(\u001b[0m\u001b[1;34m\"\\n\"\u001b[0m\u001b[1;33m.\u001b[0m\u001b[0mjoin\u001b[0m\u001b[1;33m(\u001b[0m\u001b[0merrmsg\u001b[0m\u001b[1;33m)\u001b[0m\u001b[1;33m)\u001b[0m\u001b[1;33m\u001b[0m\u001b[1;33m\u001b[0m\u001b[0m\n\u001b[0m\u001b[0;32m    273\u001b[0m \u001b[1;33m\u001b[0m\u001b[0m\n\u001b[0;32m    274\u001b[0m         \u001b[1;32mif\u001b[0m \u001b[0mnp\u001b[0m\u001b[1;33m.\u001b[0m\u001b[0many\u001b[0m\u001b[1;33m(\u001b[0m\u001b[1;33m~\u001b[0m\u001b[0mnp\u001b[0m\u001b[1;33m.\u001b[0m\u001b[0misfinite\u001b[0m\u001b[1;33m(\u001b[0m\u001b[0mself\u001b[0m\u001b[1;33m.\u001b[0m\u001b[0m_stds\u001b[0m\u001b[1;33m)\u001b[0m\u001b[1;33m)\u001b[0m\u001b[1;33m:\u001b[0m\u001b[1;33m\u001b[0m\u001b[1;33m\u001b[0m\u001b[0m\n",
      "\u001b[1;31mValueError\u001b[0m: Mass matrix contains zeros on the diagonal. \nThe derivative of RV `α`.ravel()[0] is zero.\nThe derivative of RV `α`.ravel()[1] is zero.\nThe derivative of RV `α`.ravel()[2] is zero.\nThe derivative of RV `α`.ravel()[3] is zero.\nThe derivative of RV `α`.ravel()[4] is zero.\nThe derivative of RV `α`.ravel()[6] is zero.\nThe derivative of RV `α`.ravel()[7] is zero.\nThe derivative of RV `α`.ravel()[8] is zero.\nThe derivative of RV `α`.ravel()[10] is zero.\nThe derivative of RV `α`.ravel()[11] is zero.\nThe derivative of RV `α`.ravel()[12] is zero.\nThe derivative of RV `α`.ravel()[13] is zero.\nThe derivative of RV `α`.ravel()[14] is zero.\nThe derivative of RV `α`.ravel()[15] is zero.\nThe derivative of RV `α`.ravel()[16] is zero.\nThe derivative of RV `α`.ravel()[17] is zero.\nThe derivative of RV `α`.ravel()[18] is zero.\nThe derivative of RV `α`.ravel()[19] is zero.\nThe derivative of RV `α`.ravel()[20] is zero.\nThe derivative of RV `α`.ravel()[21] is zero.\nThe derivative of RV `α`.ravel()[22] is zero.\nThe derivative of RV `α`.ravel()[23] is zero.\nThe derivative of RV `α`.ravel()[24] is zero.\nThe derivative of RV `α`.ravel()[25] is zero.\nThe derivative of RV `α`.ravel()[26] is zero.\nThe derivative of RV `α`.ravel()[27] is zero.\nThe derivative of RV `α`.ravel()[28] is zero.\nThe derivative of RV `α`.ravel()[29] is zero.\nThe derivative of RV `α`.ravel()[30] is zero.\nThe derivative of RV `α`.ravel()[31] is zero.\nThe derivative of RV `α`.ravel()[32] is zero.\nThe derivative of RV `α`.ravel()[33] is zero.\nThe derivative of RV `α`.ravel()[35] is zero.\nThe derivative of RV `α`.ravel()[36] is zero.\nThe derivative of RV `α`.ravel()[37] is zero.\nThe derivative of RV `α`.ravel()[39] is zero.\nThe derivative of RV `α`.ravel()[40] is zero.\nThe derivative of RV `α`.ravel()[41] is zero.\nThe derivative of RV `α`.ravel()[42] is zero.\nThe derivative of RV `α`.ravel()[43] is zero.\nThe derivative of RV `α`.ravel()[44] is zero.\nThe derivative of RV `α`.ravel()[45] is zero.\nThe derivative of RV `α`.ravel()[46] is zero.\nThe derivative of RV `α`.ravel()[47] is zero.\nThe derivative of RV `α`.ravel()[48] is zero.\nThe derivative of RV `α`.ravel()[49] is zero.\nThe derivative of RV `α`.ravel()[50] is zero.\nThe derivative of RV `α`.ravel()[51] is zero.\nThe derivative of RV `α`.ravel()[52] is zero.\nThe derivative of RV `α`.ravel()[53] is zero.\nThe derivative of RV `β_σ_log__`.ravel()[0] is zero.\nThe derivative of RV `β_μ`.ravel()[0] is zero.\nThe derivative of RV `α_σ_log__`.ravel()[0] is zero.\nThe derivative of RV `α_μ`.ravel()[0] is zero."
     ]
    }
   ],
   "source": [
    "# pooled model\n",
    "with pm.Model() as m1: \n",
    "    \n",
    "    # hyper-priors\n",
    "    α_μ = pm.Normal('α_μ', mu=0, sd=1)\n",
    "    α_σ = pm.HalfNormal('α_σ', 1)\n",
    "    β_μ = pm.Normal('β_μ', mu=0, sd=1)\n",
    "    β_σ = pm.HalfNormal('β_σ', sd=1)\n",
    "    \n",
    "    # priors\n",
    "    α = pm.Normal('α', mu=α_μ, sd=α_σ, shape=N)\n",
    "    β = pm.Normal('β', mu=β_μ, sd=β_σ, shape=N)\n",
    "    ε = pm.HalfCauchy('ε', 1)\n",
    "    \n",
    "    # containers \n",
    "    x_ = pm.Data('m1_x', train[x_new].values) #Year_ as data container (can be changed). \n",
    "    idx_ = pm.Data('m1_idx', train[idx_new].values)\n",
    "    \n",
    "    y_pred = pm.Normal('y_pred',\n",
    "                       mu=α[idx_] + β[idx_] * x_,\n",
    "                       sd=ε, observed=train[y].values)\n",
    "    \n",
    "    # trace \n",
    "    m1_trace = pm.sample(2000, chains = 1, return_inferencedata = True,\n",
    "                        target_accept = .99)"
   ]
  },
  {
   "cell_type": "code",
   "execution_count": null,
   "metadata": {},
   "outputs": [],
   "source": [
    "# check trace\n",
    "az.plot_trace(m1_trace)"
   ]
  },
  {
   "cell_type": "code",
   "execution_count": null,
   "metadata": {},
   "outputs": [],
   "source": [
    "# posterior predictive on new data. \n",
    "predictions = f.pp_test(\n",
    "    m1, \n",
    "    m1_trace, \n",
    "    {'m1_x': test[x_new].values, 'm1_idx': test[idx_new].values},\n",
    "    params = [\"α\", \"β\", \"y_pred\"]\n",
    "    )"
   ]
  },
  {
   "cell_type": "code",
   "execution_count": 20,
   "metadata": {},
   "outputs": [
    {
     "output_type": "error",
     "ename": "NameError",
     "evalue": "name 'predictions' is not defined",
     "traceback": [
      "\u001b[1;31m---------------------------------------------------------------------------\u001b[0m",
      "\u001b[1;31mNameError\u001b[0m                                 Traceback (most recent call last)",
      "\u001b[1;32m<ipython-input-20-4c2836d16a8f>\u001b[0m in \u001b[0;36m<module>\u001b[1;34m\u001b[0m\n\u001b[0;32m      1\u001b[0m \u001b[1;31m# plot posterior predictive on new data.\u001b[0m\u001b[1;33m\u001b[0m\u001b[1;33m\u001b[0m\u001b[1;33m\u001b[0m\u001b[0m\n\u001b[1;32m----> 2\u001b[1;33m \u001b[0mf\u001b[0m\u001b[1;33m.\u001b[0m\u001b[0mplot_pp\u001b[0m\u001b[1;33m(\u001b[0m\u001b[0mpredictions\u001b[0m\u001b[1;33m,\u001b[0m \u001b[0mtrain\u001b[0m\u001b[1;33m,\u001b[0m \u001b[0mtest\u001b[0m\u001b[1;33m,\u001b[0m \u001b[0md\u001b[0m\u001b[1;33m,\u001b[0m \u001b[0mx_new\u001b[0m\u001b[1;33m,\u001b[0m \u001b[0my\u001b[0m\u001b[1;33m,\u001b[0m \u001b[0midx_old\u001b[0m\u001b[1;33m)\u001b[0m\u001b[1;33m\u001b[0m\u001b[1;33m\u001b[0m\u001b[0m\n\u001b[0m",
      "\u001b[1;31mNameError\u001b[0m: name 'predictions' is not defined"
     ]
    }
   ],
   "source": [
    "# plot posterior predictive on new data. \n",
    "f.plot_pp(predictions, train, test, d, x_new, y, idx_old)"
   ]
  },
  {
   "cell_type": "code",
   "execution_count": null,
   "metadata": {},
   "outputs": [],
   "source": []
  }
 ]
}