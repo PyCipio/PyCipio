{
 "metadata": {
  "language_info": {
   "codemirror_mode": {
    "name": "ipython",
    "version": 3
   },
   "file_extension": ".py",
   "mimetype": "text/x-python",
   "name": "python",
   "nbconvert_exporter": "python",
   "pygments_lexer": "ipython3",
   "version": "3.8.5"
  },
  "orig_nbformat": 2,
  "kernelspec": {
   "name": "python385jvsc74a57bd05698216558bfa99e9d0f38da36571f7d9dccffc67e29b4443301a5ed3d75bbb7",
   "display_name": "Python 3.8.5 64-bit ('CM': conda)"
  },
  "metadata": {
   "interpreter": {
    "hash": "5698216558bfa99e9d0f38da36571f7d9dccffc67e29b4443301a5ed3d75bbb7"
   }
  }
 },
 "nbformat": 4,
 "nbformat_minor": 2,
 "cells": [
  {
   "cell_type": "code",
   "execution_count": null,
   "metadata": {},
   "outputs": [],
   "source": [
    "## import packages\n",
    "import numpy as np \n",
    "import pandas as pd \n",
    "from covid19dh import covid19\n",
    "from datetime import date\n",
    "from Get_covid_data import get_data\n",
    "import pymc3 as pm\n",
    "import pandas as pd \n",
    "import numpy as np \n",
    "import seaborn as sns\n",
    "import arviz as az\n",
    "import matplotlib.pyplot as plt\n",
    "import os \n",
    "import theano\n",
    "import theano.tensor as tt \n",
    "import random\n",
    "import fns as f\n",
    "import PyCipio as pc \n",
    "import pickle"
   ]
  },
  {
   "cell_type": "code",
   "execution_count": null,
   "metadata": {},
   "outputs": [],
   "source": [
    "pd.data()"
   ]
  },
  {
   "cell_type": "code",
   "execution_count": null,
   "metadata": {},
   "outputs": [],
   "source": [
    "#prep data (pandas dataframe containing a time series)\n",
    "d = df\n",
    "\n",
    "##### create class ######\n",
    "Pc = pc.PyCipio(d, time = \"t\", values = \"y\", index = \"idx\", split = 0.7)\n",
    "\n",
    "##### fit model: \n",
    "Pc.fit(p1 = (7, 1), p2 = (30, 1), p1_mode = \"multiplicative\", p2_mode = \"additive\")\n",
    "\n",
    "##### sample #####\n",
    "Pc.sample_mod()\n",
    "\n",
    "##### plotting #####\n",
    "Pc.plot_trace()\n",
    "Pc.plot_pp()\n",
    "\n",
    "### plot training ###\n",
    "Pc.plot_fit_idx([\"list of groups in the dataset\"])\n",
    "\n",
    "### plot predict ###\n",
    "Pc.plot_predict_idx([\"list of groups in the dataset\"])\n",
    "\n",
    "### get errors ###\n",
    "Pc.get_errors(path = \"..\\path to image folder\")\n",
    "\n",
    "### plot residuals ###\n",
    "Pc.plot_residuals(path = \"..\\path to image folder\", idx = [\"list of groups in the dataset\"])\n",
    "\n",
    "### save idata ### - This is if you want to save your model for later use\n",
    "Pc.save_idata(\"../path to model folder\")\n",
    "\n",
    "## load idata into the class - after having saved it from an earlier run\n",
    "Pc.load_idata(\"../path to model folder\")\n",
    "\n",
    "\n"
   ]
  }
 ]
}