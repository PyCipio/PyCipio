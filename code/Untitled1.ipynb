{
 "cells": [
  {
   "cell_type": "code",
   "execution_count": 1,
   "id": "constitutional-anger",
   "metadata": {},
   "outputs": [],
   "source": [
    "import numpy as np \n",
    "import pandas as pd \n",
    "from covid19dh import covid19\n",
    "from datetime import date\n",
    "from Get_covid_data import get_data\n",
    "import pymc3 as pm\n",
    "import pandas as pd \n",
    "import numpy as np \n",
    "import seaborn as sns\n",
    "import arviz as az\n",
    "import matplotlib.pyplot as plt\n",
    "import os \n",
    "import theano\n",
    "import theano.tensor as tt \n",
    "import random\n",
    "import fns as f"
   ]
  },
  {
   "cell_type": "code",
   "execution_count": 3,
   "id": "consolidated-milton",
   "metadata": {},
   "outputs": [
    {
     "name": "stderr",
     "output_type": "stream",
     "text": [
      "<ipython-input-3-17ca2234e8d2>:19: SettingWithCopyWarning: \n",
      "A value is trying to be set on a copy of a slice from a DataFrame.\n",
      "Try using .loc[row_indexer,col_indexer] = value instead\n",
      "\n",
      "See the caveats in the documentation: https://pandas.pydata.org/pandas-docs/stable/user_guide/indexing.html#returning-a-view-versus-a-copy\n",
      "  df['y_scaled'] = df['new_infected'] / df_ref['new_infected'].max()\n",
      "<ipython-input-3-17ca2234e8d2>:20: SettingWithCopyWarning: \n",
      "A value is trying to be set on a copy of a slice from a DataFrame.\n",
      "Try using .loc[row_indexer,col_indexer] = value instead\n",
      "\n",
      "See the caveats in the documentation: https://pandas.pydata.org/pandas-docs/stable/user_guide/indexing.html#returning-a-view-versus-a-copy\n",
      "  df['t'] = (df['date'] - df_ref['date'].min()) / (df_ref['date'].max() - df_ref['date'].min())\n"
     ]
    }
   ],
   "source": [
    "###### Emil Roenn = Get data ###### \n",
    "df = get_data(level = 2, start = date(2020,1,1)) #can get more or less data here.\n",
    "\n",
    "np.unique(df.administrative_area_level_2.values)\n",
    "\n",
    "df[\"new_infected\"] = df.groupby([\"administrative_area_level_2\"])[\"confirmed\"].diff()\n",
    "df = df[df[\"administrative_area_level_2\"].isin([\"Colorado\", \"Mississippi\", \"Nevada\", \"Florida\", \"New York\"])]\n",
    "df = df[df[\"new_infected\"].notna()]\n",
    "df.reset_index(inplace = True)\n",
    "\n",
    "\n",
    "## train/test\n",
    "import fns as f\n",
    "df[\"date_idx\"] = df.groupby([\"administrative_area_level_2\"]).cumcount()+0\n",
    "train, test = f.train_test(df, \"date_idx\", train_size = .75)\n",
    "\n",
    "# Scale the data\n",
    "def scalar(df, df_ref): \n",
    "    df['y_scaled'] = df['new_infected'] / df_ref['new_infected'].max()\n",
    "    df['t'] = (df['date'] - df_ref['date'].min()) / (df_ref['date'].max() - df_ref['date'].min())\n",
    "    df.reset_index()\n",
    "    return(df)\n",
    "\n",
    "# scale both train & test\n",
    "train = scalar(train, train)\n",
    "test = scalar(test, train)\n",
    "\n",
    "## take out variables ##\n",
    "time_train = train.date_idx.values\n",
    "y_train = train.y_scaled.values\n",
    "time_test = test.date_idx.values\n",
    "y_test = test.y_scaled.values\n",
    "train_idx = pd.Categorical(train[\"administrative_area_level_2\"]).codes\n",
    "test_idx = pd.Categorical(test[\"administrative_area_level_2\"]).codes\n",
    "N = len(np.unique(train_idx))\n",
    "\n",
    "###### Run on own data ######\n",
    "n = 2\n",
    "p_week = 7\n",
    "p_month = 30\n",
    "c_week = (2 * np.pi * np.arange(1, n + 1) / p_week)[:, None]\n",
    "c_month = (2 * np.pi * np.arange(1, n + 1) / p_month)[:, None]\n",
    "seasonality_prior_scale=2"
   ]
  },
  {
   "cell_type": "code",
   "execution_count": 4,
   "id": "banner-daniel",
   "metadata": {},
   "outputs": [],
   "source": [
    "with pm.Model() as m: \n",
    "    \n",
    "    # shared \n",
    "    t_shared = pm.Data('t_shared', time_train)\n",
    "    idx_shared = pm.Data('idx_shared', train_idx)\n",
    "    \n",
    "    # creating fourier\n",
    "    x_week = c_week * t_shared\n",
    "    x_month = c_month * t_shared\n",
    "    \n",
    "    x_week_waves = tt.concatenate((tt.cos(x_week), tt.sin(x_week)), axis=0)\n",
    "    x_month_waves = tt.concatenate((tt.cos(x_month), tt.sin(x_month)), axis = 0)\n",
    "    \n",
    "    # beta\n",
    "    beta_week_waves = pm.Normal('beta_week_waves', mu = 0, sd = seasonality_prior_scale, shape = (2*n, N)) \n",
    "    beta_month_waves = pm.Normal('beta_month_waves', mu = 0, sd = seasonality_prior_scale, shape = (2*n, N))\n",
    "    beta_line = pm.Normal('beta_line', mu = 0, sd = 0.2, shape = N)\n",
    "    \n",
    "    # mu temp\n",
    "    mu_week_waves = pm.math.dot(x_week_waves.T, beta_week_waves[:, idx_shared]) \n",
    "    mu_month_waves = pm.math.dot(x_month_waves.T, beta_month_waves[:, idx_shared])\n",
    "    mu_line = beta_line[idx_shared] * t_shared\n",
    "    \n",
    "    #pm.math.dot(mu_week_waves[idx_shared], mu_line[idx_shared])\n",
    "    # mu = tt.sum(mu_tmp)\n",
    "    \n",
    "    mu = mu_week_waves + mu_month_waves + mu_line\n",
    "    \n",
    "    # sigma \n",
    "    sigma = pm.HalfCauchy('sigma', 0.5)\n",
    "    \n",
    "    # likelihood \n",
    "    y_pred = pm.Normal('y_pred', \n",
    "                       mu = mu,\n",
    "                       sd = sigma,\n",
    "                       observed = y_train)"
   ]
  },
  {
   "cell_type": "code",
   "execution_count": null,
   "id": "whole-arnold",
   "metadata": {},
   "outputs": [
    {
     "name": "stderr",
     "output_type": "stream",
     "text": [
      "WARNING (theano.tensor.blas): We did not find a dynamic library in the library_dir of the library we use for blas. If you use ATLAS, make sure to compile it with dynamics library.\n",
      "Auto-assigning NUTS sampler...\n",
      "Initializing NUTS using adapt_diag...\n",
      "Multiprocess sampling (2 chains in 2 jobs)\n",
      "NUTS: [sigma, beta_line, beta_month_waves, beta_week_waves]\n"
     ]
    },
    {
     "data": {
      "text/html": [
       "\n",
       "    <div>\n",
       "        <style>\n",
       "            /* Turns off some styling */\n",
       "            progress {\n",
       "                /* gets rid of default border in Firefox and Opera. */\n",
       "                border: none;\n",
       "                /* Needs to be in here for Safari polyfill so background images work as expected. */\n",
       "                background-size: auto;\n",
       "            }\n",
       "            .progress-bar-interrupted, .progress-bar-interrupted::-webkit-progress-bar {\n",
       "                background: #F44336;\n",
       "            }\n",
       "        </style>\n",
       "      <progress value='26' class='' max='3000' style='width:300px; height:20px; vertical-align: middle;'></progress>\n",
       "      0.87% [26/3000 00:13<26:24 Sampling 2 chains, 0 divergences]\n",
       "    </div>\n",
       "    "
      ],
      "text/plain": [
       "<IPython.core.display.HTML object>"
      ]
     },
     "metadata": {},
     "output_type": "display_data"
    }
   ],
   "source": [
    "# idata\n",
    "with m: \n",
    "    m_idata = pm.sample(return_inferencedata = True,\n",
    "                        init= \"adapt_diag\",\n",
    "                        draws = 500)"
   ]
  }
 ],
 "metadata": {
  "kernelspec": {
   "display_name": "Python 3",
   "language": "python",
   "name": "python3"
  },
  "language_info": {
   "codemirror_mode": {
    "name": "ipython",
    "version": 3
   },
   "file_extension": ".py",
   "mimetype": "text/x-python",
   "name": "python",
   "nbconvert_exporter": "python",
   "pygments_lexer": "ipython3",
   "version": "3.9.2"
  }
 },
 "nbformat": 4,
 "nbformat_minor": 5
}
