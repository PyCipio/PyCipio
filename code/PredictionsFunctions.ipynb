{
 "cells": [
  {
   "cell_type": "markdown",
   "id": "severe-portal",
   "metadata": {},
   "source": [
    "# Functions for the pipeline"
   ]
  },
  {
   "cell_type": "markdown",
   "id": "looking-bunny",
   "metadata": {},
   "source": [
    "## Plot predictions\n",
    "(1) should set PI like .89 rather than standard deviations (e.g. 3). <br/>\n",
    "(2) the dots should be in the front rather than behind the lines."
   ]
  },
  {
   "cell_type": "code",
   "execution_count": null,
   "id": "dedicated-mobile",
   "metadata": {},
   "outputs": [],
   "source": [
    "def plot_pred(trace, x_train, x_test, y_train, y_test, lines = True, size = 50, std = 3):\n",
    "    \n",
    "    ## main part\n",
    "    pred = trace[\"y_pred\"] # should not be hard-coded of course. \n",
    "    pred_mean = pred.mean(axis=0)\n",
    "    pred_std = pred.std(axis=0)\n",
    "    plt.figure(figsize=(16, 8))\n",
    "    plt.scatter(x_train, y_train, c='k', zorder=10, label='Data')\n",
    "    plt.scatter(x_test, y_test, c=\"red\", label='Held-out')\n",
    "    plt.plot(x_test, pred_mean, label='Prediction Mean', linewidth = 5, c = \"k\")\n",
    "    plt.fill_between(Year_test_aust, pred_mean - std*pred_std, pred_mean + std*pred_std, \n",
    "                     alpha=0.2, label='Uncertainty Interval ($\\mu\\pm3\\sigma$)')\n",
    "    \n",
    "    ## optionally add lines\n",
    "    if lines == True: \n",
    "        \n",
    "        alpha = np.random.choice(trace[\"α\"], size = size)\n",
    "        beta = np.random.choice(trace[\"β\"], size = size)\n",
    "        \n",
    "        for a, b in zip(alpha, beta):\n",
    "            y = a + b * Year_test_aust\n",
    "            plt.plot(Year_test_aust, y, c=\"k\", alpha=0.4)\n",
    "    \n",
    "    ## final stuff\n",
    "    plt.xlabel('$x$')\n",
    "    plt.ylabel('$y$')\n",
    "    plt.legend(loc='upper left')"
   ]
  },
  {
   "cell_type": "markdown",
   "id": "controlling-adrian",
   "metadata": {},
   "source": [
    "## MSE \n",
    "get MSE between predictions and true."
   ]
  },
  {
   "cell_type": "code",
   "execution_count": null,
   "id": "guilty-chamber",
   "metadata": {},
   "outputs": [],
   "source": [
    "# mean squared error (implement more) \n",
    "def MSE_fun(y_true, y_pred): \n",
    "    MSE = np.square(np.subtract(y_true, y_pred)).mean() \n",
    "    return MSE "
   ]
  },
  {
   "cell_type": "code",
   "execution_count": null,
   "id": "seven-atlas",
   "metadata": {},
   "outputs": [],
   "source": []
  },
  {
   "cell_type": "markdown",
   "id": "owned-mounting",
   "metadata": {},
   "source": [
    "# Ideas\n"
   ]
  },
  {
   "cell_type": "markdown",
   "id": "documentary-native",
   "metadata": {},
   "source": [
    "## (1) residual together with prediction:\n",
    "https://stackoverflow.com/questions/24116318/how-to-show-residual-in-the-bottom-of-a-matplotlib-plot"
   ]
  }
 ],
 "metadata": {
  "kernelspec": {
   "display_name": "Python 3",
   "language": "python",
   "name": "python3"
  },
  "language_info": {
   "codemirror_mode": {
    "name": "ipython",
    "version": 3
   },
   "file_extension": ".py",
   "mimetype": "text/x-python",
   "name": "python",
   "nbconvert_exporter": "python",
   "pygments_lexer": "ipython3",
   "version": "3.9.2"
  }
 },
 "nbformat": 4,
 "nbformat_minor": 5
}
