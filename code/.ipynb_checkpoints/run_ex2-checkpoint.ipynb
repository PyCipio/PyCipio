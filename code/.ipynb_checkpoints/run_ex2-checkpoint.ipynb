{
 "cells": [
  {
   "cell_type": "code",
   "execution_count": null,
   "metadata": {},
   "outputs": [],
   "source": [
    "## import packages\n",
    "import numpy as np \n",
    "import pandas as pd \n",
    "from covid19dh import covid19\n",
    "from datetime import date\n",
    "from Get_covid_data import get_data\n",
    "import pymc3 as pm\n",
    "import pandas as pd \n",
    "import numpy as np \n",
    "import seaborn as sns\n",
    "import arviz as az\n",
    "import matplotlib.pyplot as plt\n",
    "import os \n",
    "import theano\n",
    "import theano.tensor as tt \n",
    "import random\n",
    "import fns as f\n",
    "import PyCipio3 as pc \n",
    "import pickle\n",
    "\n",
    "d = pd.read_csv(\"../data/archive/Alcohol_Sales.csv\")\n",
    "\n",
    "##### create class ######\n",
    "sim = pc.PyCipio(d, time = \"DATE\", values = \"S4248SM144NCEN\", split = 0.7)\n",
    "\n",
    "##### fit mod: both just 1 #####\n",
    "## NB: if there is only one argument to mode which does something (multiplicative).\n",
    "## perhaps we should just set it as a true/false?\n",
    "sim.fit(p1 = (4, 4), p2 = (12, 6), p1_mode = \"multiplicative\", p2_mode = \"multiplicative\")\n",
    "\n",
    "##### sample #####\n",
    "sim.sample_mod()\n",
    "\n",
    "##### plotting #####\n",
    "sim.plotting()\n",
    "\n",
    "### plot training ###\n",
    "sim.plot_train_idx()\n",
    "\n",
    "### plot prediction ###\n",
    "sim.predict()\n",
    "\n",
    "### save idata ###\n",
    "#sim.save_idata(\"../models/m_ex1_7-1_30-1\")"
   ]
  },
  {
   "cell_type": "code",
   "execution_count": null,
   "metadata": {},
   "outputs": [],
   "source": []
  }
 ],
 "metadata": {
  "kernelspec": {
   "display_name": "Python 3",
   "language": "python",
   "name": "python3"
  },
  "language_info": {
   "codemirror_mode": {
    "name": "ipython",
    "version": 3
   },
   "file_extension": ".py",
   "mimetype": "text/x-python",
   "name": "python",
   "nbconvert_exporter": "python",
   "pygments_lexer": "ipython3",
   "version": "3.8.5"
  }
 },
 "nbformat": 4,
 "nbformat_minor": 4
}
