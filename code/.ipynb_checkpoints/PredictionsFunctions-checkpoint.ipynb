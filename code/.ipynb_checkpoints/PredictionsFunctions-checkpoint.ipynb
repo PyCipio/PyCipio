{
 "cells": [
  {
   "cell_type": "markdown",
   "id": "severe-portal",
   "metadata": {},
   "source": [
    "# Functions for the pipeline"
   ]
  },
  {
   "cell_type": "code",
   "execution_count": null,
   "id": "informed-feelings",
   "metadata": {},
   "outputs": [],
   "source": []
  },
  {
   "cell_type": "markdown",
   "id": "looking-bunny",
   "metadata": {},
   "source": [
    "## Plot predictions\n",
    "(1) should set PI like .89 rather than standard deviations (e.g. 3). <br/>\n",
    "(2) the dots should be in the front rather than behind the lines."
   ]
  },
  {
   "cell_type": "code",
   "execution_count": null,
   "id": "dedicated-mobile",
   "metadata": {},
   "outputs": [],
   "source": [
    "def plot_pp(pp, x_train, x_test, y_train, y_test, label_column, d,\n",
    "               lines = True, size = 50, std = 3):\n",
    "    '''\n",
    "    ### documentation so far. \n",
    "    pp: posterior (or prior?) predictive.\n",
    "    x_train: train x data (np.array)\n",
    "    x_test: test x data (np.array)\n",
    "    y_train: train y data (np.array)\n",
    "    y_test: test y data (np.array)\n",
    "    label_column: column containing labels for title (str)\n",
    "    d: your data (pd.DataFrame)\n",
    "    lines: True for Krutschke style plots with draws.\n",
    "    size: how many lines to draw if lines = True.\n",
    "    std: standard deviation of shaded area. \n",
    "    \n",
    "    ### to be done. \n",
    "    1. check that it works for several groups (non-multilevel). \n",
    "    2. plot format in cases of many subplots?\n",
    "    '''\n",
    "    \n",
    "    # go into data and take out labels \n",
    "    labels = np.unique(d[label_column].values)\n",
    "    len_idx = len(labels)\n",
    "    \n",
    "    # needed variables (double assignment)\n",
    "    len_test_rolling = len_test = len(np.unique(x_test))\n",
    "    len_train_rolling = len_train = len(np.unique(x_train))\n",
    "    draws = pp['α'].shape[0]\n",
    "    \n",
    "    # the loop.\n",
    "    for i in range(len_idx):\n",
    "        \n",
    "        ### if only one level \n",
    "        if len_idx == 1:\n",
    "            y_pred = pp[\"y_pred\"] # should not be hard-coded of course. \n",
    "            y_pred_mean = y_pred.mean(axis=0)\n",
    "            y_pred_std = y_pred.std(axis=0)\n",
    "            plt.figure(figsize=(16, 8))\n",
    "            plt.scatter(x_train, y_train, c='k', zorder=10, label='Data')\n",
    "            plt.scatter(x_test, y_test, zorder = 10, c=\"red\", label='Held-out')\n",
    "            plt.plot(x_test, y_pred_mean, label='Prediction Mean', linewidth = 5, c = \"k\")\n",
    "            plt.fill_between(x_test, y_pred_mean - std*y_pred_std, y_pred_mean + std*y_pred_std, \n",
    "                             alpha=0.2, label='Uncertainty Interval ($\\mu\\pm3\\sigma$)')\n",
    "        \n",
    "        ### if multilevel\n",
    "        if len_idx > 1: \n",
    "            y_pred = pp[\"y_pred\"] # should not be hard-coded of course. \n",
    "            y_pred_mean = y_pred[:, len_test_rolling-len_test:len_test_rolling].mean(axis=0)\n",
    "            y_pred_std = y_pred[:, len_test_rolling-len_test:len_test_rolling].std(axis=0)\n",
    "            plt.figure(figsize=(16, 8))\n",
    "            plt.scatter(x_train[len_train_rolling-len_train:len_train_rolling], \n",
    "                        y_train[len_train_rolling-len_train:len_train_rolling], \n",
    "                        c='k', zorder = 10, label='Data')\n",
    "            plt.scatter(x_test[len_test_rolling-len_test:len_test_rolling], \n",
    "                        y_test[len_test_rolling-len_test:len_test_rolling], \n",
    "                        c=\"red\", label='Held-out')\n",
    "            plt.plot(x_test[len_test_rolling-len_test:len_test_rolling], \n",
    "                     y_pred_mean, \n",
    "                     label='Prediction Mean', linewidth = 5, c = \"k\")\n",
    "            plt.fill_between(x_test[len_test_rolling-len_test:len_test_rolling], \n",
    "                             y_pred_mean - std*y_pred_std, y_pred_mean + std*y_pred_std, \n",
    "                             alpha=0.2, label='Uncertainty Interval ($\\mu\\pm3\\sigma$)')\n",
    "            len_test_rolling += len_test\n",
    "            len_train_rolling += len_train\n",
    "            \n",
    "        ## optionally add lines \n",
    "        if lines == True: \n",
    "\n",
    "            # should take a pair. (randomize index).\n",
    "            samples = [random.randrange(draws) for x in range(size)]\n",
    "\n",
    "            ### if only one level\n",
    "            if len_idx == 1: \n",
    "                alpha = [pp[\"α\"][sample] for sample in samples]\n",
    "                beta = [pp[\"β\"][sample] for sample in samples]\n",
    "\n",
    "            ### if multilevel\n",
    "            if len_idx > 1: \n",
    "                alpha = [pp[\"α\"][sample, i] for sample in samples]\n",
    "                beta = [pp[\"β\"][sample, i] for sample in samples]\n",
    "\n",
    "            for a, b in zip(alpha, beta):\n",
    "                y = a + b * x_test\n",
    "                plt.plot(x_test, y, c=\"k\", alpha=0.4)\n",
    "                \n",
    "        ## labeling.\n",
    "        plt.xlabel('$x$')\n",
    "        plt.ylabel('$y$')\n",
    "        plt.title(label = f\"{labels[i]}\", fontsize = 20)\n",
    "        plt.legend(loc='upper left')\n",
    "    "
   ]
  },
  {
   "cell_type": "markdown",
   "id": "controlling-adrian",
   "metadata": {},
   "source": [
    "## MSE \n",
    "get MSE between predictions and true."
   ]
  },
  {
   "cell_type": "code",
   "execution_count": null,
   "id": "guilty-chamber",
   "metadata": {},
   "outputs": [],
   "source": [
    "# mean squared error (implement more) \n",
    "def MSE_fun(y_true, y_pred): \n",
    "    MSE = np.square(np.subtract(y_true, y_pred)).mean() \n",
    "    return MSE "
   ]
  },
  {
   "cell_type": "code",
   "execution_count": null,
   "id": "seven-atlas",
   "metadata": {},
   "outputs": [],
   "source": []
  },
  {
   "cell_type": "markdown",
   "id": "owned-mounting",
   "metadata": {},
   "source": [
    "# Ideas\n"
   ]
  },
  {
   "cell_type": "markdown",
   "id": "documentary-native",
   "metadata": {},
   "source": [
    "## (1) residual together with prediction:\n",
    "https://stackoverflow.com/questions/24116318/how-to-show-residual-in-the-bottom-of-a-matplotlib-plot"
   ]
  }
 ],
 "metadata": {
  "kernelspec": {
   "display_name": "Python 3",
   "language": "python",
   "name": "python3"
  },
  "language_info": {
   "codemirror_mode": {
    "name": "ipython",
    "version": 3
   },
   "file_extension": ".py",
   "mimetype": "text/x-python",
   "name": "python",
   "nbconvert_exporter": "python",
   "pygments_lexer": "ipython3",
   "version": "3.9.2"
  }
 },
 "nbformat": 4,
 "nbformat_minor": 5
}
